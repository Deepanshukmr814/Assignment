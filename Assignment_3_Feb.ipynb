{
  "nbformat": 4,
  "nbformat_minor": 0,
  "metadata": {
    "colab": {
      "provenance": []
    },
    "kernelspec": {
      "name": "python3",
      "display_name": "Python 3"
    },
    "language_info": {
      "name": "python"
    }
  },
  "cells": [
    {
      "cell_type": "markdown",
      "source": [
        "**Q1. Which keyword is used to create a function? Create a function to return a list of odd numbers in the range of 1 to 25.**"
      ],
      "metadata": {
        "id": "gdOuST2FQTMX"
      }
    },
    {
      "cell_type": "code",
      "execution_count": 8,
      "metadata": {
        "id": "1-I83h23QRXK"
      },
      "outputs": [],
      "source": [
        "#Method: 1\n",
        "def odd_numbers():\n",
        "  add_list=[]\n",
        "  for i in range(1, 25):\n",
        "    if i%2!=0:\n",
        "      add_list.append(i)\n",
        "  return print(f'Odd number list:\\n{add_list}')\n"
      ]
    },
    {
      "cell_type": "code",
      "source": [
        "odd_numbers()"
      ],
      "metadata": {
        "colab": {
          "base_uri": "https://localhost:8080/"
        },
        "id": "fcx5iPJjQwQ_",
        "outputId": "b1842e2d-82c4-45a9-bc73-68eaf7d21acc"
      },
      "execution_count": 9,
      "outputs": [
        {
          "output_type": "stream",
          "name": "stdout",
          "text": [
            "Odd number list:\n",
            "[1, 3, 5, 7, 9, 11, 13, 15, 17, 19, 21, 23]\n"
          ]
        }
      ]
    },
    {
      "cell_type": "code",
      "source": [
        "#Method: 2\n",
        "def odd_numbers():\n",
        "  add_list=[]\n",
        "  for i in range(1, 25, 2):\n",
        "    add_list.append(i)\n",
        "  return print(f'Odd number list:\\n{add_list}')"
      ],
      "metadata": {
        "id": "hCQd1onEQ2p8"
      },
      "execution_count": 6,
      "outputs": []
    },
    {
      "cell_type": "code",
      "source": [
        "odd_numbers()"
      ],
      "metadata": {
        "colab": {
          "base_uri": "https://localhost:8080/"
        },
        "id": "3oQ3kaamRKkF",
        "outputId": "433da265-e59f-4d08-ac68-2081982948c3"
      },
      "execution_count": 7,
      "outputs": [
        {
          "output_type": "stream",
          "name": "stdout",
          "text": [
            "Odd number list:\n",
            "[1, 3, 5, 7, 9, 11, 13, 15, 17, 19, 21, 23]\n"
          ]
        }
      ]
    },
    {
      "cell_type": "markdown",
      "source": [
        "Q2. Why  *args and **kwargs is used in some functions? Create a function each for *args and **kwargs to demonstrate their use."
      ],
      "metadata": {
        "id": "4jx37hjqRf8L"
      }
    },
    {
      "cell_type": "code",
      "source": [
        "#args - Used to pass a variable number of arguments to a function.It takes input as a tuple, which means you can pass multiple values to it, and they will be accessible inside the function.\n",
        "#**kwargs - Used to pass a variable number of keyword arguments (in key-value pairs).It takes input as a dictionary, allowing the function to handle named arguments dynamically.\n"
      ],
      "metadata": {
        "colab": {
          "base_uri": "https://localhost:8080/"
        },
        "id": "QXrC4uylRMS7",
        "outputId": "cb905de1-3e31-46d5-80ff-f7f69d442caf"
      },
      "execution_count": 19,
      "outputs": [
        {
          "output_type": "stream",
          "name": "stdout",
          "text": [
            "Sum of all number = 21\n"
          ]
        }
      ]
    },
    {
      "cell_type": "code",
      "source": [
        "# Let's expalin it by Example\n",
        "#*args\n",
        "def add_numbers(*args):\n",
        "  '''This function takes only numeric value as input/argument'''\n",
        "  total = 0\n",
        "  for num in args:\n",
        "        total += num\n",
        "  return total\n",
        "\n",
        "print(f'Sum of all number = {add_numbers(2, 3, 4,6, 6)}')"
      ],
      "metadata": {
        "colab": {
          "base_uri": "https://localhost:8080/"
        },
        "id": "YlN5tQhyUHgs",
        "outputId": "836cd7af-dea0-4897-dd1d-030ddd9061d0"
      },
      "execution_count": 51,
      "outputs": [
        {
          "output_type": "stream",
          "name": "stdout",
          "text": [
            "Sum of all number = 21\n"
          ]
        }
      ]
    },
    {
      "cell_type": "code",
      "source": [
        "#**kwargs\n",
        "def word_concat(**kwargs):\n",
        "  '''This function takes only String value as input/argument'''\n",
        "  new_word = ''\n",
        "  for i in kwargs.values():\n",
        "    new_word += ' '+str(i)\n",
        "  return new_word"
      ],
      "metadata": {
        "id": "HK4k5glRUI0P"
      },
      "execution_count": 45,
      "outputs": []
    },
    {
      "cell_type": "code",
      "source": [
        "print(f'New Words = {word_concat(name=\"Deepanshu Kumar\", age=29, phone_number=93058876, office=\"ExlService.com\")}')"
      ],
      "metadata": {
        "colab": {
          "base_uri": "https://localhost:8080/"
        },
        "id": "x9DGKyWdV3-A",
        "outputId": "9a487be1-5afe-4a8a-af8d-1c131208f0b1"
      },
      "execution_count": 53,
      "outputs": [
        {
          "output_type": "stream",
          "name": "stdout",
          "text": [
            "New Words =  Deepanshu Kumar 29 93058876 ExlService.com\n"
          ]
        }
      ]
    },
    {
      "cell_type": "code",
      "source": [
        "word_concat(name='Deepanshu Kumar', age=29, phone_number=93058876, office='ExlService.com')"
      ],
      "metadata": {
        "colab": {
          "base_uri": "https://localhost:8080/",
          "height": 36
        },
        "id": "Xb72nC0cVE5O",
        "outputId": "c6ed33aa-1a6a-41a6-f05c-f6c181d5f9db"
      },
      "execution_count": 47,
      "outputs": [
        {
          "output_type": "execute_result",
          "data": {
            "text/plain": [
              "' Deepanshu Kumar 29 93058876 ExlService.com'"
            ],
            "application/vnd.google.colaboratory.intrinsic+json": {
              "type": "string"
            }
          },
          "metadata": {},
          "execution_count": 47
        }
      ]
    },
    {
      "cell_type": "markdown",
      "source": [
        "**Q3. What is an iterator in python? Name the method used to initialise the iterator object and the method used for iteration. Use these methods to print the first five elements of the given list [2, 4, 6, 8, 10, 12, 14, 16, 18, 20].**"
      ],
      "metadata": {
        "id": "Wx8ExTPXRkag"
      }
    },
    {
      "cell_type": "code",
      "source": [
        "l=[2, 4, 6, 8, 10, 12, 14, 16, 18, 20]\n",
        "for i in l:\n",
        "  if l.index(i)<5:\n",
        "    print(i)"
      ],
      "metadata": {
        "colab": {
          "base_uri": "https://localhost:8080/"
        },
        "id": "Tnx-2HJcRo_f",
        "outputId": "e0179bab-4359-4bb9-baa9-5ae3b50893f3"
      },
      "execution_count": 60,
      "outputs": [
        {
          "output_type": "stream",
          "name": "stdout",
          "text": [
            "2\n",
            "4\n",
            "6\n",
            "8\n",
            "10\n"
          ]
        }
      ]
    },
    {
      "cell_type": "markdown",
      "source": [
        "**Q4. What is a generator function in python? Why yield keyword is used? Give an example of a generator function.**"
      ],
      "metadata": {
        "id": "ywkwdn46Rp1o"
      }
    },
    {
      "cell_type": "code",
      "source": [
        "#A generator function in Python is a special type of function that produces a sequence of values one at a time\n",
        "#instead of returning them all at once. It uses the yield keyword instead of return.\n",
        "def number_generator():\n",
        "    yield 1\n",
        "    yield 2\n",
        "    yield 3\n",
        "\n",
        "# Using the generator:\n",
        "gen = number_generator()  # Returns a generator object\n",
        "\n",
        "# Iterate using next():\n",
        "print(next(gen))  # Output: 1\n",
        "print(next(gen))  # Output: 2\n",
        "print(next(gen))  # Output: 3\n",
        "\n",
        "# or iterate using a for loop:\n",
        "for number in number_generator():\n",
        "    print(number)  # Output: 1, 2, 3"
      ],
      "metadata": {
        "colab": {
          "base_uri": "https://localhost:8080/"
        },
        "id": "0tPwxyVnRuHE",
        "outputId": "4fd4fc94-ac71-48e0-ff80-62dfcd0a1401"
      },
      "execution_count": 62,
      "outputs": [
        {
          "output_type": "stream",
          "name": "stdout",
          "text": [
            "1\n",
            "2\n",
            "3\n",
            "1\n",
            "2\n",
            "3\n"
          ]
        }
      ]
    },
    {
      "cell_type": "markdown",
      "source": [
        "**Q5. Create a generator function for prime numbers less than 1000. Use the next() method to print the first 20 prime numbers.**"
      ],
      "metadata": {
        "id": "ZM3aQfAvRw-N"
      }
    },
    {
      "cell_type": "code",
      "source": [
        "def prime_generator():\n",
        "    # Generator for prime numbers less than 1000\n",
        "    for num in range(2, 1000):  # Start checking from 2\n",
        "        if all(num % i != 0 for i in range(2, int(num ** 0.5) + 1)):  # Prime check\n",
        "            yield num  # Yield the prime number"
      ],
      "metadata": {
        "id": "SE1ue0HTRy_I"
      },
      "execution_count": 113,
      "outputs": []
    },
    {
      "cell_type": "code",
      "source": [
        "gen_num=prime_generator()\n",
        "for i in range(0, 21):\n",
        "  print(next(gen_num))"
      ],
      "metadata": {
        "colab": {
          "base_uri": "https://localhost:8080/"
        },
        "id": "MgRnEq1Filk5",
        "outputId": "7d9dbe95-38c7-4ee3-e5d0-42a11291fd9d"
      },
      "execution_count": 114,
      "outputs": [
        {
          "output_type": "stream",
          "name": "stdout",
          "text": [
            "2\n",
            "3\n",
            "5\n",
            "7\n",
            "11\n",
            "13\n",
            "17\n",
            "19\n",
            "23\n",
            "29\n",
            "31\n",
            "37\n",
            "41\n",
            "43\n",
            "47\n",
            "53\n",
            "59\n",
            "61\n",
            "67\n",
            "71\n",
            "73\n"
          ]
        }
      ]
    },
    {
      "cell_type": "markdown",
      "source": [
        "**Q6. Write a python program to print the first 10 Fibonacci numbers using a while loop.**"
      ],
      "metadata": {
        "id": "O8kJL2MnRzaL"
      }
    },
    {
      "cell_type": "code",
      "source": [
        "num= 1\n",
        "a, b= 0, 1\n",
        "while num<=10:\n",
        "  print(a)\n",
        "  c=a+b\n",
        "  a=b\n",
        "  b=c\n",
        "  num+=1"
      ],
      "metadata": {
        "colab": {
          "base_uri": "https://localhost:8080/"
        },
        "id": "K7YZjoUUR1on",
        "outputId": "0f3fc8b6-7140-46db-ccdb-6032782401fc"
      },
      "execution_count": 70,
      "outputs": [
        {
          "output_type": "stream",
          "name": "stdout",
          "text": [
            "0\n",
            "1\n",
            "1\n",
            "2\n",
            "3\n",
            "5\n",
            "8\n",
            "13\n",
            "21\n",
            "34\n"
          ]
        }
      ]
    },
    {
      "cell_type": "markdown",
      "source": [
        "Q7. Write a List Comprehension to iterate through the given string: ‘pwskills’.\n",
        "Expected output: ['p', 'w', 's', 'k', 'i', 'l', 'l', 's']"
      ],
      "metadata": {
        "id": "u-kR7I1gR2H1"
      }
    },
    {
      "cell_type": "code",
      "source": [
        "s='pwskills'\n",
        "[i for i in s]"
      ],
      "metadata": {
        "colab": {
          "base_uri": "https://localhost:8080/"
        },
        "id": "V70XZMZwcUb7",
        "outputId": "c089bbf1-d0af-4dce-a1dd-77d4e489c97b"
      },
      "execution_count": 63,
      "outputs": [
        {
          "output_type": "execute_result",
          "data": {
            "text/plain": [
              "['p', 'w', 's', 'k', 'i', 'l', 'l', 's']"
            ]
          },
          "metadata": {},
          "execution_count": 63
        }
      ]
    },
    {
      "cell_type": "markdown",
      "source": [
        "Q8. Write a python program to check whether a given number is Palindrome or not using a while loop."
      ],
      "metadata": {
        "id": "j0tBK4SiR4wQ"
      }
    },
    {
      "cell_type": "code",
      "source": [
        "num = int(input('Enter a number here... '))  # Take input from the user\n",
        "temp = num  # Store the original number\n",
        "rev = 0\n",
        "\n",
        "while num > 0:\n",
        "    digi = num % 10  # Get the last digit\n",
        "    rev = rev * 10 + digi  # Build the reversed number\n",
        "    num = num // 10  # Use integer division to drop the last digit\n",
        "\n",
        "# Check if the original number is the same as the reversed number\n",
        "if temp == rev:\n",
        "    print('Given number is Palindrome: {}, {}'.format(temp, rev))\n",
        "else:\n",
        "    print('Given number is not Palindrome: Original Number= {}, Reverse Number= {}'.format(temp, rev))\n",
        "\n"
      ],
      "metadata": {
        "colab": {
          "base_uri": "https://localhost:8080/"
        },
        "id": "7-VvtKjBR6sR",
        "outputId": "e5b6dbbf-99aa-4f51-e336-e7fcbd890db7"
      },
      "execution_count": 80,
      "outputs": [
        {
          "output_type": "stream",
          "name": "stdout",
          "text": [
            "Enter a number here... 321\n",
            "Given number is not Palindrome: Original Number= 321, Reverse Number= 123\n"
          ]
        }
      ]
    },
    {
      "cell_type": "markdown",
      "source": [
        "Q9. Write a code to print odd numbers from 1 to 100 using list comprehension.\n",
        "Note: Use a list comprehension to create a list from 1 to 100 and use another List comprehension to filter out odd numbers."
      ],
      "metadata": {
        "id": "H-Yz1N6cR69W"
      }
    },
    {
      "cell_type": "code",
      "source": [
        "l=[i for i in range(1, 100)]\n",
        "l"
      ],
      "metadata": {
        "colab": {
          "base_uri": "https://localhost:8080/"
        },
        "id": "Cyr8FgZodQWJ",
        "outputId": "de060353-719b-4543-b4d8-a163bb8d8610"
      },
      "execution_count": 78,
      "outputs": [
        {
          "output_type": "execute_result",
          "data": {
            "text/plain": [
              "[1,\n",
              " 2,\n",
              " 3,\n",
              " 4,\n",
              " 5,\n",
              " 6,\n",
              " 7,\n",
              " 8,\n",
              " 9,\n",
              " 10,\n",
              " 11,\n",
              " 12,\n",
              " 13,\n",
              " 14,\n",
              " 15,\n",
              " 16,\n",
              " 17,\n",
              " 18,\n",
              " 19,\n",
              " 20,\n",
              " 21,\n",
              " 22,\n",
              " 23,\n",
              " 24,\n",
              " 25,\n",
              " 26,\n",
              " 27,\n",
              " 28,\n",
              " 29,\n",
              " 30,\n",
              " 31,\n",
              " 32,\n",
              " 33,\n",
              " 34,\n",
              " 35,\n",
              " 36,\n",
              " 37,\n",
              " 38,\n",
              " 39,\n",
              " 40,\n",
              " 41,\n",
              " 42,\n",
              " 43,\n",
              " 44,\n",
              " 45,\n",
              " 46,\n",
              " 47,\n",
              " 48,\n",
              " 49,\n",
              " 50,\n",
              " 51,\n",
              " 52,\n",
              " 53,\n",
              " 54,\n",
              " 55,\n",
              " 56,\n",
              " 57,\n",
              " 58,\n",
              " 59,\n",
              " 60,\n",
              " 61,\n",
              " 62,\n",
              " 63,\n",
              " 64,\n",
              " 65,\n",
              " 66,\n",
              " 67,\n",
              " 68,\n",
              " 69,\n",
              " 70,\n",
              " 71,\n",
              " 72,\n",
              " 73,\n",
              " 74,\n",
              " 75,\n",
              " 76,\n",
              " 77,\n",
              " 78,\n",
              " 79,\n",
              " 80,\n",
              " 81,\n",
              " 82,\n",
              " 83,\n",
              " 84,\n",
              " 85,\n",
              " 86,\n",
              " 87,\n",
              " 88,\n",
              " 89,\n",
              " 90,\n",
              " 91,\n",
              " 92,\n",
              " 93,\n",
              " 94,\n",
              " 95,\n",
              " 96,\n",
              " 97,\n",
              " 98,\n",
              " 99]"
            ]
          },
          "metadata": {},
          "execution_count": 78
        }
      ]
    },
    {
      "cell_type": "code",
      "source": [
        "odd_numbers=[i for i in l if i%2!=0]"
      ],
      "metadata": {
        "id": "BHCiMR37R_lf"
      },
      "execution_count": 66,
      "outputs": []
    },
    {
      "cell_type": "code",
      "source": [
        "odd_numbers"
      ],
      "metadata": {
        "colab": {
          "base_uri": "https://localhost:8080/"
        },
        "id": "2NY5jiApcoCf",
        "outputId": "bdeed271-f451-42b0-d1b9-0ce62b78e39d"
      },
      "execution_count": 67,
      "outputs": [
        {
          "output_type": "execute_result",
          "data": {
            "text/plain": [
              "[1,\n",
              " 3,\n",
              " 5,\n",
              " 7,\n",
              " 9,\n",
              " 11,\n",
              " 13,\n",
              " 15,\n",
              " 17,\n",
              " 19,\n",
              " 21,\n",
              " 23,\n",
              " 25,\n",
              " 27,\n",
              " 29,\n",
              " 31,\n",
              " 33,\n",
              " 35,\n",
              " 37,\n",
              " 39,\n",
              " 41,\n",
              " 43,\n",
              " 45,\n",
              " 47,\n",
              " 49,\n",
              " 51,\n",
              " 53,\n",
              " 55,\n",
              " 57,\n",
              " 59,\n",
              " 61,\n",
              " 63,\n",
              " 65,\n",
              " 67,\n",
              " 69,\n",
              " 71,\n",
              " 73,\n",
              " 75,\n",
              " 77,\n",
              " 79,\n",
              " 81,\n",
              " 83,\n",
              " 85,\n",
              " 87,\n",
              " 89,\n",
              " 91,\n",
              " 93,\n",
              " 95,\n",
              " 97,\n",
              " 99]"
            ]
          },
          "metadata": {},
          "execution_count": 67
        }
      ]
    },
    {
      "cell_type": "code",
      "source": [],
      "metadata": {
        "id": "X39yGtwDdiQw"
      },
      "execution_count": null,
      "outputs": []
    }
  ]
}