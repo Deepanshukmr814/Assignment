{
  "nbformat": 4,
  "nbformat_minor": 0,
  "metadata": {
    "colab": {
      "provenance": []
    },
    "kernelspec": {
      "name": "python3",
      "display_name": "Python 3"
    },
    "language_info": {
      "name": "python"
    }
  },
  "cells": [
    {
      "cell_type": "markdown",
      "source": [
        "Q1. Create a python program to sort the given list of tuples based on integer value using a lambda function.\n",
        "[('Sachin Tendulkar', 34357), ('Ricky Ponting', 27483), ('Jack Kallis', 25534), ('Virat Kohli', 24936)]"
      ],
      "metadata": {
        "id": "whU0TFJCnxAL"
      }
    },
    {
      "cell_type": "code",
      "execution_count": 91,
      "metadata": {
        "colab": {
          "base_uri": "https://localhost:8080/"
        },
        "id": "Vo1DHxKUnns3",
        "outputId": "800ab567-eae9-4d8d-9511-dd9488a5e06e"
      },
      "outputs": [
        {
          "output_type": "stream",
          "name": "stdout",
          "text": [
            "[('Virat Kohli', 24936), ('Jack Kallis', 25534), ('Ricky Ponting', 27483), ('Sachin Tendulkar', 34357)]\n"
          ]
        }
      ],
      "source": [
        "l=[('Sachin Tendulkar', 34357), ('Ricky Ponting', 27483), ('Jack Kallis', 25534), ('Virat Kohli', 24936)]\n",
        "sorted_list=sorted(l, key=lambda x: x[1])\n",
        "print(sorted_list)"
      ]
    },
    {
      "cell_type": "markdown",
      "source": [
        "Q2. Write a Python Program to find the squares of all the numbers in the given list of integers using lambda and map functions.\n",
        "[1, 2, 3, 4, 5, 6, 7, 8, 9, 10]"
      ],
      "metadata": {
        "id": "JUqWeuxQn1X6"
      }
    },
    {
      "cell_type": "code",
      "source": [
        "#Using Lambda function\n",
        "l=[1, 2, 3, 4, 5, 6, 7, 8, 9, 10]\n",
        "num_sq=lambda x: [i**2 for i in x]\n",
        "num_sq(l)"
      ],
      "metadata": {
        "colab": {
          "base_uri": "https://localhost:8080/"
        },
        "id": "-qiiudRtn5ET",
        "outputId": "2ea1ff83-858e-43c8-d557-33cd962fda4b"
      },
      "execution_count": null,
      "outputs": [
        {
          "output_type": "execute_result",
          "data": {
            "text/plain": [
              "[1, 4, 9, 16, 25, 36, 49, 64, 81, 100]"
            ]
          },
          "metadata": {},
          "execution_count": 13
        }
      ]
    },
    {
      "cell_type": "code",
      "source": [
        "#Using Map & Lambda function\n",
        "l=[1, 2, 3, 4, 5, 6, 7, 8, 9, 10]\n",
        "num_sq=map(lambda x: x**2, l)\n",
        "list(num_sq)\n"
      ],
      "metadata": {
        "colab": {
          "base_uri": "https://localhost:8080/"
        },
        "id": "NUp1yBqip6xe",
        "outputId": "34899d76-a9d7-421a-949d-c7b9eb59cec6"
      },
      "execution_count": null,
      "outputs": [
        {
          "output_type": "execute_result",
          "data": {
            "text/plain": [
              "[1, 4, 9, 16, 25, 36, 49, 64, 81, 100]"
            ]
          },
          "metadata": {},
          "execution_count": 15
        }
      ]
    },
    {
      "cell_type": "markdown",
      "source": [
        "Q3. Write a python program to convert the given list of integers into a tuple of strings. Use map and lambda functions\n",
        "Given String: [1, 2, 3, 4, 5, 6, 7, 8, 9, 10]\n",
        "Expected output: ('1', '2', '3', '4', '5', '6', '7', '8', '9', '10')"
      ],
      "metadata": {
        "id": "7WtDCIHsoCFW"
      }
    },
    {
      "cell_type": "code",
      "source": [
        "#Using Map and Lambda function\n",
        "l=[1, 2, 3, 4, 5, 6, 7, 8, 9, 10]\n",
        "tuple(map(lambda s: str(s), l))"
      ],
      "metadata": {
        "colab": {
          "base_uri": "https://localhost:8080/"
        },
        "id": "Pkyjv2oCqttq",
        "outputId": "0bb7961e-c357-481d-c467-884117cc451f"
      },
      "execution_count": null,
      "outputs": [
        {
          "output_type": "execute_result",
          "data": {
            "text/plain": [
              "('1', '2', '3', '4', '5', '6', '7', '8', '9', '10')"
            ]
          },
          "metadata": {},
          "execution_count": 20
        }
      ]
    },
    {
      "cell_type": "code",
      "source": [
        "#Using Lambda function\n",
        "s=[1, 2, 3, 4, 5, 6, 7, 8, 9, 10]\n",
        "a=lambda x: [str(i) for i in x]\n",
        "tuple(a(s))"
      ],
      "metadata": {
        "colab": {
          "base_uri": "https://localhost:8080/"
        },
        "id": "gLQ4ZPsOn9e0",
        "outputId": "43feedb7-3138-4ed7-9602-006ab4328c90"
      },
      "execution_count": null,
      "outputs": [
        {
          "output_type": "execute_result",
          "data": {
            "text/plain": [
              "('1', '2', '3', '4', '5', '6', '7', '8', '9', '10')"
            ]
          },
          "metadata": {},
          "execution_count": 21
        }
      ]
    },
    {
      "cell_type": "markdown",
      "source": [
        "Q4. Write a python program using reduce function to compute the product of a list containing numbers from 1 to 25."
      ],
      "metadata": {
        "id": "y3W1ROXPn4aX"
      }
    },
    {
      "cell_type": "code",
      "source": [
        "#Using Reduce Function\n",
        "from functools import reduce\n",
        "l=list(range(1, 26))\n",
        "reduce(lambda x, y: x*y, l)"
      ],
      "metadata": {
        "colab": {
          "base_uri": "https://localhost:8080/"
        },
        "id": "_P9MuG2CoIQ4",
        "outputId": "ec6283c5-7d48-451e-ab2e-a9897af0f2b9"
      },
      "execution_count": null,
      "outputs": [
        {
          "output_type": "execute_result",
          "data": {
            "text/plain": [
              "15511210043330985984000000"
            ]
          },
          "metadata": {},
          "execution_count": 32
        }
      ]
    },
    {
      "cell_type": "code",
      "source": [
        "#Using Without Reduce Function\n",
        "from functools import reduce\n",
        "product=1\n",
        "l=list(range(1, 26))\n",
        "for i in l:\n",
        "  product=product*i\n",
        "product\n"
      ],
      "metadata": {
        "colab": {
          "base_uri": "https://localhost:8080/"
        },
        "id": "UajJPF5DsLFZ",
        "outputId": "6a73a2dd-90b2-4616-d734-41ead09a56f0"
      },
      "execution_count": null,
      "outputs": [
        {
          "output_type": "execute_result",
          "data": {
            "text/plain": [
              "15511210043330985984000000"
            ]
          },
          "metadata": {},
          "execution_count": 39
        }
      ]
    },
    {
      "cell_type": "markdown",
      "source": [
        "Q5. Write a python program to filter the numbers in a given list that are divisible by 2 and 3 using the filter function.\n",
        "[2, 3, 6, 9, 27, 60, 90, 120, 55, 46]"
      ],
      "metadata": {
        "id": "p8rz54AnoIxm"
      }
    },
    {
      "cell_type": "code",
      "source": [
        "list(filter(lambda x: x%2==0 and x%3==0,  [2, 3, 6, 9, 27, 60, 90, 120, 55, 46]))"
      ],
      "metadata": {
        "colab": {
          "base_uri": "https://localhost:8080/"
        },
        "id": "ZCmqFHsjoMaE",
        "outputId": "f3ee52af-a03c-4c30-ec47-4e22c27c83ec"
      },
      "execution_count": null,
      "outputs": [
        {
          "output_type": "execute_result",
          "data": {
            "text/plain": [
              "[6, 60, 90, 120]"
            ]
          },
          "metadata": {},
          "execution_count": 44
        }
      ]
    },
    {
      "cell_type": "markdown",
      "source": [
        "Q6. Write a python program to find palindromes in the given list of strings using lambda and filter function.\n",
        "['python', 'php', 'aba', 'radar', 'level']"
      ],
      "metadata": {
        "id": "wx1MSdHHoM_V"
      }
    },
    {
      "cell_type": "code",
      "source": [
        "l=['python', 'php', 'aba', 'radar', 'level']\n",
        "a=lambda x: x==x[::-1]\n",
        "list(filter(a, l))"
      ],
      "metadata": {
        "id": "XhuywEFhoQTl",
        "colab": {
          "base_uri": "https://localhost:8080/"
        },
        "outputId": "775c7db9-9b68-4918-ed26-39247ec1d2d5"
      },
      "execution_count": 105,
      "outputs": [
        {
          "output_type": "execute_result",
          "data": {
            "text/plain": [
              "['php', 'aba', 'radar', 'level']"
            ]
          },
          "metadata": {},
          "execution_count": 105
        }
      ]
    },
    {
      "cell_type": "code",
      "source": [
        "#Without using filter Function\n",
        "l=['python', 'php', 'aba', 'radar', 'level']\n",
        "a=lambda x: x[::-1]\n",
        "new_list=list(map(a, l))\n",
        "for x, y in zip(l, new_list):#With the help of Zip function, combined 2 iterator index to index value\n",
        "  if x==y:\n",
        "    print(x)\n",
        "\n"
      ],
      "metadata": {
        "colab": {
          "base_uri": "https://localhost:8080/"
        },
        "id": "_Wk5NaKs46bh",
        "outputId": "a2321f7d-5bf4-4d51-c9d6-f92dcd2acae9"
      },
      "execution_count": 117,
      "outputs": [
        {
          "output_type": "stream",
          "name": "stdout",
          "text": [
            "php\n",
            "aba\n",
            "radar\n",
            "level\n"
          ]
        }
      ]
    },
    {
      "cell_type": "code",
      "source": [
        "list(zip(l, new_list))"
      ],
      "metadata": {
        "colab": {
          "base_uri": "https://localhost:8080/"
        },
        "id": "Kd9j035147Ar",
        "outputId": "88a79e55-9402-42a8-9ea7-2aefb3eadef6"
      },
      "execution_count": 116,
      "outputs": [
        {
          "output_type": "execute_result",
          "data": {
            "text/plain": [
              "[('python', 'nohtyp'),\n",
              " ('php', 'php'),\n",
              " ('aba', 'aba'),\n",
              " ('radar', 'radar'),\n",
              " ('level', 'level')]"
            ]
          },
          "metadata": {},
          "execution_count": 116
        }
      ]
    },
    {
      "cell_type": "code",
      "source": [],
      "metadata": {
        "id": "YPJuVBpJ9GAA"
      },
      "execution_count": null,
      "outputs": []
    }
  ]
}