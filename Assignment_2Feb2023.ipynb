{
 "cells": [
  {
   "cell_type": "code",
   "execution_count": 1,
   "id": "7d9eb08e-9fa9-4f06-8e50-cbaef9159ae9",
   "metadata": {},
   "outputs": [],
   "source": [
    "#Q1. Explain with an example each when to use a for loop and a while loop."
   ]
  },
  {
   "cell_type": "code",
   "execution_count": 16,
   "id": "5205dada-5ee0-4b5e-8c29-e5c5498aead0",
   "metadata": {},
   "outputs": [
    {
     "name": "stdin",
     "output_type": "stream",
     "text": [
      "Enter your number 8\n"
     ]
    },
    {
     "name": "stdout",
     "output_type": "stream",
     "text": [
      "8 * 1 = 8\n",
      "8 * 2 = 16\n",
      "8 * 3 = 24\n",
      "8 * 4 = 32\n",
      "8 * 5 = 40\n",
      "8 * 6 = 48\n",
      "8 * 7 = 56\n",
      "8 * 8 = 64\n",
      "8 * 9 = 72\n",
      "8 * 10 = 80\n"
     ]
    }
   ],
   "source": [
    "#Example of For loop: write table of any number\n",
    "n = int(input(\"Enter your number\"))\n",
    "result:1\n",
    "for i in range(1,11):\n",
    "    print(str(n)+\" * \"+str(i)+\" = \"+str(int(n*i)))"
   ]
  },
  {
   "cell_type": "code",
   "execution_count": 17,
   "id": "68d71e99-5488-4471-befa-ee563f0daedf",
   "metadata": {},
   "outputs": [
    {
     "name": "stdin",
     "output_type": "stream",
     "text": [
      "Enter any number 77\n"
     ]
    },
    {
     "name": "stdout",
     "output_type": "stream",
     "text": [
      "Total even number between 0 to 77 :39\n"
     ]
    }
   ],
   "source": [
    "#Example of While loop: write even number between specific range\n",
    "n = int(input(\"Enter any number\"))\n",
    "l=[]\n",
    "i=0\n",
    "while i<=n:\n",
    "    if i%2==0:\n",
    "        l.append(i)\n",
    "    i=i+1\n",
    "print(\"Total even number between 0 to \"+str(n)+\" :\"+str(len(l)))   "
   ]
  },
  {
   "cell_type": "code",
   "execution_count": 5,
   "id": "23263b8e-6708-4b55-b1c8-4458035cb3e4",
   "metadata": {},
   "outputs": [],
   "source": [
    "#Q2. Write a python program to print the sum and product of the first 10 natural numbers using for\n",
    "#and while loop."
   ]
  },
  {
   "cell_type": "code",
   "execution_count": 6,
   "id": "b0324a4e-94d1-4c94-bbe5-20d130740f39",
   "metadata": {},
   "outputs": [
    {
     "name": "stdout",
     "output_type": "stream",
     "text": [
      "Sum of first 10 Natural Numbert: 55\n",
      "Product of first 10 Natural Numbert: 3628800\n"
     ]
    }
   ],
   "source": [
    "#With for loop\n",
    "l=list(range(1,11))\n",
    "sum, product=0,1\n",
    "for i in l:\n",
    "    sum=sum+i\n",
    "    product=product*i\n",
    "print(\"Sum of first 10 Natural Numbert: \"+str(sum)) \n",
    "print(\"Product of first 10 Natural Numbert: \"+str(product))  "
   ]
  },
  {
   "cell_type": "code",
   "execution_count": 7,
   "id": "1ae5cb52-0503-425e-b4c1-91f22112225b",
   "metadata": {},
   "outputs": [
    {
     "name": "stdout",
     "output_type": "stream",
     "text": [
      "Sum of first 10 Natural Numbert: 55\n",
      "Product of first 10 Natural Numbert: 3628800\n"
     ]
    }
   ],
   "source": [
    "#With While loop\n",
    "n=10\n",
    "sum, product, i=0, 1, 1\n",
    "while i<=n:\n",
    "    sum=sum+i\n",
    "    product=product*i\n",
    "    i=i+1\n",
    "print(\"Sum of first 10 Natural Numbert: \"+str(sum)) \n",
    "print(\"Product of first 10 Natural Numbert: \"+str(product))    "
   ]
  },
  {
   "cell_type": "code",
   "execution_count": 8,
   "id": "23ac091f-6876-4e57-9acb-e3e56b697e28",
   "metadata": {},
   "outputs": [],
   "source": [
    "#Q3. Create a python program to compute the electricity bill for a household.\n",
    "#The per-unit charges in rupees are as follows: For the first 100 units, the user will be charged Rs. 4.5 per\n",
    "#unit, for the next 100 units, the user will be charged Rs. 6 per unit, and for the next 100 units, the user will\n",
    "#be charged Rs. 10 per unit, After 300 units and above the user will be charged Rs. 20 per unit.\n",
    "#You are required to take the units of electricity consumed in a month from the user as input."
   ]
  },
  {
   "cell_type": "code",
   "execution_count": 9,
   "id": "eada4f59-8e95-456c-a924-8b7f84a81136",
   "metadata": {},
   "outputs": [
    {
     "name": "stdin",
     "output_type": "stream",
     "text": [
      "Enter number of units of current month 121\n"
     ]
    },
    {
     "name": "stdout",
     "output_type": "stream",
     "text": [
      "Total Electricity Bill Amount 726\n"
     ]
    }
   ],
   "source": [
    "unit = int(input(\"Enter number of units of current month\"))\n",
    "if unit<=100:\n",
    "    print(\"Total Electricity Bill Amount \"+str(unit*4.5))\n",
    "elif unit>100 and unit<=200:\n",
    "        print(\"Total Electricity Bill Amount \"+str(unit*6))\n",
    "elif unit>200 and unit<=300:\n",
    "     print(\"Total Electricity Bill Amount \"+str(unit*10))\n",
    "else:\n",
    "    print(\"Total Electricity Bill Amount \"+str(unit*20))\n",
    "    "
   ]
  },
  {
   "cell_type": "code",
   "execution_count": 10,
   "id": "831bb31d-0237-491d-ad09-661409bdb0d0",
   "metadata": {},
   "outputs": [],
   "source": [
    "#Q4. Create a list of numbers from 1 to 100. Use for loop and while loop to calculate the cube of each\n",
    "# number and if the cube of that number is divisible by 4 or 5 then append that number in a list and print\n",
    "# that list."
   ]
  },
  {
   "cell_type": "code",
   "execution_count": 11,
   "id": "19b028b1-bdda-459c-ae90-8b2e3a41ef32",
   "metadata": {},
   "outputs": [
    {
     "data": {
      "text/plain": [
       "[8,\n",
       " 64,\n",
       " 125,\n",
       " 216,\n",
       " 512,\n",
       " 1000,\n",
       " 1728,\n",
       " 2744,\n",
       " 3375,\n",
       " 4096,\n",
       " 5832,\n",
       " 8000,\n",
       " 10648,\n",
       " 13824,\n",
       " 15625,\n",
       " 17576,\n",
       " 21952,\n",
       " 27000,\n",
       " 32768,\n",
       " 39304,\n",
       " 42875,\n",
       " 46656,\n",
       " 54872,\n",
       " 64000,\n",
       " 74088,\n",
       " 85184,\n",
       " 91125,\n",
       " 97336,\n",
       " 110592,\n",
       " 125000,\n",
       " 140608,\n",
       " 157464,\n",
       " 166375,\n",
       " 175616,\n",
       " 195112,\n",
       " 216000,\n",
       " 238328,\n",
       " 262144,\n",
       " 274625,\n",
       " 287496,\n",
       " 314432,\n",
       " 343000,\n",
       " 373248,\n",
       " 405224,\n",
       " 421875,\n",
       " 438976,\n",
       " 474552,\n",
       " 512000,\n",
       " 551368,\n",
       " 592704,\n",
       " 614125,\n",
       " 636056,\n",
       " 681472,\n",
       " 729000,\n",
       " 778688,\n",
       " 830584,\n",
       " 857375,\n",
       " 884736,\n",
       " 941192,\n",
       " 1000000]"
      ]
     },
     "execution_count": 11,
     "metadata": {},
     "output_type": "execute_result"
    }
   ],
   "source": [
    "#With for loop\n",
    "l = list(range(1, 101))\n",
    "l2 = []\n",
    "for i in l:\n",
    "    if (i*i*i)%4 == 0 or (i*i*i)%5 == 0:\n",
    "        #print(i*i*i)\n",
    "        l2.append(i*i*i)\n",
    "l2"
   ]
  },
  {
   "cell_type": "code",
   "execution_count": 12,
   "id": "7a2a6664-54c4-49d4-87fa-014bc95355a1",
   "metadata": {},
   "outputs": [
    {
     "data": {
      "text/plain": [
       "[8,\n",
       " 64,\n",
       " 125,\n",
       " 216,\n",
       " 512,\n",
       " 1000,\n",
       " 1728,\n",
       " 2744,\n",
       " 3375,\n",
       " 4096,\n",
       " 5832,\n",
       " 8000,\n",
       " 10648,\n",
       " 13824,\n",
       " 15625,\n",
       " 17576,\n",
       " 21952,\n",
       " 27000,\n",
       " 32768,\n",
       " 39304,\n",
       " 42875,\n",
       " 46656,\n",
       " 54872,\n",
       " 64000,\n",
       " 74088,\n",
       " 85184,\n",
       " 91125,\n",
       " 97336,\n",
       " 110592,\n",
       " 125000,\n",
       " 140608,\n",
       " 157464,\n",
       " 166375,\n",
       " 175616,\n",
       " 195112,\n",
       " 216000,\n",
       " 238328,\n",
       " 262144,\n",
       " 274625,\n",
       " 287496,\n",
       " 314432,\n",
       " 343000,\n",
       " 373248,\n",
       " 405224,\n",
       " 421875,\n",
       " 438976,\n",
       " 474552,\n",
       " 512000,\n",
       " 551368,\n",
       " 592704,\n",
       " 614125,\n",
       " 636056,\n",
       " 681472,\n",
       " 729000,\n",
       " 778688,\n",
       " 830584,\n",
       " 857375,\n",
       " 884736,\n",
       " 941192,\n",
       " 1000000]"
      ]
     },
     "execution_count": 12,
     "metadata": {},
     "output_type": "execute_result"
    }
   ],
   "source": [
    "#With While loop\n",
    "l = list(range(1, 101))\n",
    "l2 = []\n",
    "i=1\n",
    "while i <= 100:\n",
    "    if (i*i*i)%4 == 0 or (i*i*i)%5 == 0:\n",
    "        #print(i*i*i)\n",
    "        l2.append(i*i*i)\n",
    "    i=i+1\n",
    "l2"
   ]
  },
  {
   "cell_type": "code",
   "execution_count": 13,
   "id": "fabbeacd-5b72-4571-b305-fb8b0e31aacc",
   "metadata": {},
   "outputs": [],
   "source": [
    "#Q5. Write a program to filter count vowels in the below-given string.\n",
    "#string = \"I want to become a data scientist\""
   ]
  },
  {
   "cell_type": "code",
   "execution_count": 18,
   "id": "274214ca-6610-4fe2-8e63-a31678d711e7",
   "metadata": {},
   "outputs": [
    {
     "data": {
      "text/plain": [
       "'Number of Vowels: 12'"
      ]
     },
     "execution_count": 18,
     "metadata": {},
     "output_type": "execute_result"
    }
   ],
   "source": [
    "#With for loop\n",
    "s = 'I want to become a data scientist'\n",
    "s1 = []\n",
    "for i in s:\n",
    "    if i=='A' or i=='a' or i=='E' or i=='e' or i=='I' or i=='i' or i=='o' or i=='O' or i=='U' or i=='u':\n",
    "        #print(i)\n",
    "        s1.append(i)\n",
    "'Number of Vowels: '+ str(len(s1))"
   ]
  },
  {
   "cell_type": "code",
   "execution_count": 19,
   "id": "4604d5dc-3bb8-454f-9eed-9c39d3493512",
   "metadata": {},
   "outputs": [
    {
     "data": {
      "text/plain": [
       "'Number of Vowels: 12'"
      ]
     },
     "execution_count": 19,
     "metadata": {},
     "output_type": "execute_result"
    }
   ],
   "source": [
    "#With while loop\n",
    "s = 'I want to become a data scientist'\n",
    "i=0\n",
    "s1=[]\n",
    "while i<len(s):\n",
    "    if s[i]=='a' or s[i]=='e' or s[i]=='i' or s[i]=='o' or s[i]=='u' or s[i]=='A'or s[i]=='E' or s[i]=='I' or s[i]=='O' or s[i]=='U':\n",
    "        #print(s[i])\n",
    "        s1.append(s[i])\n",
    "    i=i+1\n",
    "'Number of Vowels: '+ str(len(s1))"
   ]
  },
  {
   "cell_type": "code",
   "execution_count": null,
   "id": "f551c4a3-6ed4-4491-85bd-f9ae41e68a2e",
   "metadata": {},
   "outputs": [],
   "source": []
  }
 ],
 "metadata": {
  "kernelspec": {
   "display_name": "Python 3 (ipykernel)",
   "language": "python",
   "name": "python3"
  },
  "language_info": {
   "codemirror_mode": {
    "name": "ipython",
    "version": 3
   },
   "file_extension": ".py",
   "mimetype": "text/x-python",
   "name": "python",
   "nbconvert_exporter": "python",
   "pygments_lexer": "ipython3",
   "version": "3.10.8"
  }
 },
 "nbformat": 4,
 "nbformat_minor": 5
}
